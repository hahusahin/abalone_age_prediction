{
 "cells": [
  {
   "cell_type": "markdown",
   "metadata": {},
   "source": [
    "# ABALONE AGE PREDICTION"
   ]
  },
  {
   "cell_type": "markdown",
   "metadata": {},
   "source": [
    "Our Goal is predicting the age of abalone from physical measurements. The age of abalone is determined by cutting the shell through the cone, staining it, and counting the number of rings through a microscope. Other measurements, which are easier to obtain, are used to predict the age."
   ]
  },
  {
   "cell_type": "markdown",
   "metadata": {},
   "source": [
    "### DATA"
   ]
  },
  {
   "cell_type": "code",
   "execution_count": 109,
   "metadata": {},
   "outputs": [],
   "source": [
    "import numpy as np\n",
    "import pandas as pd"
   ]
  },
  {
   "cell_type": "code",
   "execution_count": 110,
   "metadata": {},
   "outputs": [],
   "source": [
    "df = pd.read_csv(\"abalone.csv\")"
   ]
  },
  {
   "cell_type": "code",
   "execution_count": 111,
   "metadata": {},
   "outputs": [
    {
     "data": {
      "text/html": [
       "<div>\n",
       "<style scoped>\n",
       "    .dataframe tbody tr th:only-of-type {\n",
       "        vertical-align: middle;\n",
       "    }\n",
       "\n",
       "    .dataframe tbody tr th {\n",
       "        vertical-align: top;\n",
       "    }\n",
       "\n",
       "    .dataframe thead th {\n",
       "        text-align: right;\n",
       "    }\n",
       "</style>\n",
       "<table border=\"1\" class=\"dataframe\">\n",
       "  <thead>\n",
       "    <tr style=\"text-align: right;\">\n",
       "      <th></th>\n",
       "      <th>Sex</th>\n",
       "      <th>Length</th>\n",
       "      <th>Diameter</th>\n",
       "      <th>Height</th>\n",
       "      <th>Whole weight</th>\n",
       "      <th>Shucked weight</th>\n",
       "      <th>Viscera weight</th>\n",
       "      <th>Shell weight</th>\n",
       "      <th>Rings</th>\n",
       "    </tr>\n",
       "  </thead>\n",
       "  <tbody>\n",
       "    <tr>\n",
       "      <th>0</th>\n",
       "      <td>M</td>\n",
       "      <td>0.455</td>\n",
       "      <td>0.365</td>\n",
       "      <td>0.095</td>\n",
       "      <td>0.5140</td>\n",
       "      <td>0.2245</td>\n",
       "      <td>0.1010</td>\n",
       "      <td>0.150</td>\n",
       "      <td>15</td>\n",
       "    </tr>\n",
       "    <tr>\n",
       "      <th>1</th>\n",
       "      <td>M</td>\n",
       "      <td>0.350</td>\n",
       "      <td>0.265</td>\n",
       "      <td>0.090</td>\n",
       "      <td>0.2255</td>\n",
       "      <td>0.0995</td>\n",
       "      <td>0.0485</td>\n",
       "      <td>0.070</td>\n",
       "      <td>7</td>\n",
       "    </tr>\n",
       "    <tr>\n",
       "      <th>2</th>\n",
       "      <td>F</td>\n",
       "      <td>0.530</td>\n",
       "      <td>0.420</td>\n",
       "      <td>0.135</td>\n",
       "      <td>0.6770</td>\n",
       "      <td>0.2565</td>\n",
       "      <td>0.1415</td>\n",
       "      <td>0.210</td>\n",
       "      <td>9</td>\n",
       "    </tr>\n",
       "    <tr>\n",
       "      <th>3</th>\n",
       "      <td>M</td>\n",
       "      <td>0.440</td>\n",
       "      <td>0.365</td>\n",
       "      <td>0.125</td>\n",
       "      <td>0.5160</td>\n",
       "      <td>0.2155</td>\n",
       "      <td>0.1140</td>\n",
       "      <td>0.155</td>\n",
       "      <td>10</td>\n",
       "    </tr>\n",
       "    <tr>\n",
       "      <th>4</th>\n",
       "      <td>I</td>\n",
       "      <td>0.330</td>\n",
       "      <td>0.255</td>\n",
       "      <td>0.080</td>\n",
       "      <td>0.2050</td>\n",
       "      <td>0.0895</td>\n",
       "      <td>0.0395</td>\n",
       "      <td>0.055</td>\n",
       "      <td>7</td>\n",
       "    </tr>\n",
       "  </tbody>\n",
       "</table>\n",
       "</div>"
      ],
      "text/plain": [
       "  Sex  Length  Diameter  Height  Whole weight  Shucked weight  Viscera weight  \\\n",
       "0   M   0.455     0.365   0.095        0.5140          0.2245          0.1010   \n",
       "1   M   0.350     0.265   0.090        0.2255          0.0995          0.0485   \n",
       "2   F   0.530     0.420   0.135        0.6770          0.2565          0.1415   \n",
       "3   M   0.440     0.365   0.125        0.5160          0.2155          0.1140   \n",
       "4   I   0.330     0.255   0.080        0.2050          0.0895          0.0395   \n",
       "\n",
       "   Shell weight  Rings  \n",
       "0         0.150     15  \n",
       "1         0.070      7  \n",
       "2         0.210      9  \n",
       "3         0.155     10  \n",
       "4         0.055      7  "
      ]
     },
     "execution_count": 111,
     "metadata": {},
     "output_type": "execute_result"
    }
   ],
   "source": [
    "df.head()"
   ]
  },
  {
   "cell_type": "code",
   "execution_count": 113,
   "metadata": {},
   "outputs": [
    {
     "name": "stdout",
     "output_type": "stream",
     "text": [
      "<class 'pandas.core.frame.DataFrame'>\n",
      "RangeIndex: 4177 entries, 0 to 4176\n",
      "Data columns (total 8 columns):\n",
      " #   Column          Non-Null Count  Dtype  \n",
      "---  ------          --------------  -----  \n",
      " 0   Length          4177 non-null   float64\n",
      " 1   Diameter        4177 non-null   float64\n",
      " 2   Height          4177 non-null   float64\n",
      " 3   Whole weight    4177 non-null   float64\n",
      " 4   Shucked weight  4177 non-null   float64\n",
      " 5   Viscera weight  4177 non-null   float64\n",
      " 6   Shell weight    4177 non-null   float64\n",
      " 7   age             4177 non-null   float64\n",
      "dtypes: float64(8)\n",
      "memory usage: 261.2 KB\n"
     ]
    }
   ],
   "source": [
    "df.info()"
   ]
  },
  {
   "cell_type": "markdown",
   "metadata": {},
   "source": [
    "The age of abalone is calculated as follows: Age = Rings + 1.5\n",
    "So I created a new column for age (will be our target) and drop the rings column. I also drop the sex column for our model deployment purposes."
   ]
  },
  {
   "cell_type": "code",
   "execution_count": 112,
   "metadata": {},
   "outputs": [],
   "source": [
    "df['age'] = df['Rings'] + 1.5\n",
    "df.drop('Rings', axis = 1, inplace = True)\n",
    "df.drop('Sex', axis = 1, inplace = True)"
   ]
  },
  {
   "cell_type": "markdown",
   "metadata": {},
   "source": [
    "### Preprocessing"
   ]
  },
  {
   "cell_type": "code",
   "execution_count": 115,
   "metadata": {},
   "outputs": [],
   "source": [
    "X = df.drop('age', axis = 1)\n",
    "y = df['age']"
   ]
  },
  {
   "cell_type": "code",
   "execution_count": 116,
   "metadata": {},
   "outputs": [],
   "source": [
    "from sklearn.model_selection import train_test_split"
   ]
  },
  {
   "cell_type": "code",
   "execution_count": 117,
   "metadata": {},
   "outputs": [],
   "source": [
    "X_train, X_test, y_train, y_test = train_test_split(X, y, test_size=0.25, random_state=10)"
   ]
  },
  {
   "cell_type": "code",
   "execution_count": 118,
   "metadata": {},
   "outputs": [],
   "source": [
    "from sklearn.preprocessing import MinMaxScaler"
   ]
  },
  {
   "cell_type": "code",
   "execution_count": 119,
   "metadata": {},
   "outputs": [],
   "source": [
    "scaler = MinMaxScaler()"
   ]
  },
  {
   "cell_type": "code",
   "execution_count": 120,
   "metadata": {},
   "outputs": [],
   "source": [
    "scaled_X_train = scaler.fit_transform(X_train)"
   ]
  },
  {
   "cell_type": "code",
   "execution_count": 121,
   "metadata": {},
   "outputs": [],
   "source": [
    "scaled_X_test = scaler.transform(X_test)"
   ]
  },
  {
   "cell_type": "markdown",
   "metadata": {},
   "source": [
    "### ANN MODEL"
   ]
  },
  {
   "cell_type": "code",
   "execution_count": 122,
   "metadata": {},
   "outputs": [],
   "source": [
    "from tensorflow.keras.models import Sequential\n",
    "from tensorflow.keras.layers import Dense"
   ]
  },
  {
   "cell_type": "code",
   "execution_count": 123,
   "metadata": {},
   "outputs": [],
   "source": [
    "model = Sequential()\n",
    "model.add(Dense(units=16,activation='relu'))\n",
    "model.add(Dense(units=4,activation='relu'))\n",
    "model.add(Dense(units=1))\n",
    "\n",
    "model.compile(optimizer='adam', loss='mse')\n",
    "\n",
    "epochs = 50"
   ]
  },
  {
   "cell_type": "code",
   "execution_count": 124,
   "metadata": {},
   "outputs": [
    {
     "name": "stdout",
     "output_type": "stream",
     "text": [
      "Epoch 1/50\n",
      "98/98 [==============================] - 1s 6ms/step - loss: 132.9924 - val_loss: 97.2317\n",
      "Epoch 2/50\n",
      "98/98 [==============================] - 0s 2ms/step - loss: 83.2035 - val_loss: 34.0338\n",
      "Epoch 3/50\n",
      "98/98 [==============================] - 0s 2ms/step - loss: 24.9308 - val_loss: 9.5059\n",
      "Epoch 4/50\n",
      "98/98 [==============================] - 0s 2ms/step - loss: 9.6133 - val_loss: 8.4945\n",
      "Epoch 5/50\n",
      "98/98 [==============================] - 0s 2ms/step - loss: 9.3779 - val_loss: 8.2518\n",
      "Epoch 6/50\n",
      "98/98 [==============================] - 0s 2ms/step - loss: 8.3522 - val_loss: 8.0203\n",
      "Epoch 7/50\n",
      "98/98 [==============================] - 0s 2ms/step - loss: 7.8909 - val_loss: 7.7920\n",
      "Epoch 8/50\n",
      "98/98 [==============================] - 0s 2ms/step - loss: 7.9809 - val_loss: 7.5728\n",
      "Epoch 9/50\n",
      "98/98 [==============================] - 0s 2ms/step - loss: 7.9903 - val_loss: 7.3712\n",
      "Epoch 10/50\n",
      "98/98 [==============================] - 0s 2ms/step - loss: 7.4746 - val_loss: 7.1893\n",
      "Epoch 11/50\n",
      "98/98 [==============================] - 0s 2ms/step - loss: 7.7296 - val_loss: 7.0225\n",
      "Epoch 12/50\n",
      "98/98 [==============================] - 0s 2ms/step - loss: 7.7970 - val_loss: 6.8772\n",
      "Epoch 13/50\n",
      "98/98 [==============================] - 0s 2ms/step - loss: 6.8107 - val_loss: 6.7447\n",
      "Epoch 14/50\n",
      "98/98 [==============================] - 0s 2ms/step - loss: 7.5038 - val_loss: 6.6309\n",
      "Epoch 15/50\n",
      "98/98 [==============================] - 0s 2ms/step - loss: 7.3664 - val_loss: 6.5322\n",
      "Epoch 16/50\n",
      "98/98 [==============================] - 0s 2ms/step - loss: 6.8143 - val_loss: 6.4274\n",
      "Epoch 17/50\n",
      "98/98 [==============================] - 0s 2ms/step - loss: 6.7084 - val_loss: 6.2660\n",
      "Epoch 18/50\n",
      "98/98 [==============================] - 0s 2ms/step - loss: 6.9708 - val_loss: 6.1514\n",
      "Epoch 19/50\n",
      "98/98 [==============================] - 0s 2ms/step - loss: 7.2829 - val_loss: 6.1128\n",
      "Epoch 20/50\n",
      "98/98 [==============================] - 0s 2ms/step - loss: 7.0283 - val_loss: 5.9956\n",
      "Epoch 21/50\n",
      "98/98 [==============================] - 0s 2ms/step - loss: 6.7407 - val_loss: 5.9310\n",
      "Epoch 22/50\n",
      "98/98 [==============================] - 0s 2ms/step - loss: 6.4290 - val_loss: 5.8714\n",
      "Epoch 23/50\n",
      "98/98 [==============================] - 0s 2ms/step - loss: 6.4953 - val_loss: 5.8035\n",
      "Epoch 24/50\n",
      "98/98 [==============================] - 0s 2ms/step - loss: 6.6246 - val_loss: 5.7403\n",
      "Epoch 25/50\n",
      "98/98 [==============================] - 0s 2ms/step - loss: 6.3763 - val_loss: 5.6826\n",
      "Epoch 26/50\n",
      "98/98 [==============================] - 0s 2ms/step - loss: 6.4823 - val_loss: 5.6162\n",
      "Epoch 27/50\n",
      "98/98 [==============================] - 0s 2ms/step - loss: 6.1942 - val_loss: 5.5538\n",
      "Epoch 28/50\n",
      "98/98 [==============================] - 0s 2ms/step - loss: 6.1178 - val_loss: 5.5123\n",
      "Epoch 29/50\n",
      "98/98 [==============================] - 0s 2ms/step - loss: 6.0247 - val_loss: 5.4250\n",
      "Epoch 30/50\n",
      "98/98 [==============================] - 0s 2ms/step - loss: 5.8939 - val_loss: 5.3787\n",
      "Epoch 31/50\n",
      "98/98 [==============================] - 0s 2ms/step - loss: 5.8720 - val_loss: 5.3139\n",
      "Epoch 32/50\n",
      "98/98 [==============================] - 0s 2ms/step - loss: 5.8341 - val_loss: 5.2769\n",
      "Epoch 33/50\n",
      "98/98 [==============================] - 0s 2ms/step - loss: 5.2161 - val_loss: 5.2389\n",
      "Epoch 34/50\n",
      "98/98 [==============================] - 0s 2ms/step - loss: 5.8205 - val_loss: 5.1616\n",
      "Epoch 35/50\n",
      "98/98 [==============================] - 0s 2ms/step - loss: 5.4055 - val_loss: 5.1233\n",
      "Epoch 36/50\n",
      "98/98 [==============================] - 0s 2ms/step - loss: 5.6477 - val_loss: 5.1442\n",
      "Epoch 37/50\n",
      "98/98 [==============================] - 0s 2ms/step - loss: 6.1103 - val_loss: 5.1087\n",
      "Epoch 38/50\n",
      "98/98 [==============================] - 0s 2ms/step - loss: 5.7902 - val_loss: 5.0352\n",
      "Epoch 39/50\n",
      "98/98 [==============================] - 0s 2ms/step - loss: 5.3037 - val_loss: 4.9951\n",
      "Epoch 40/50\n",
      "98/98 [==============================] - 0s 2ms/step - loss: 5.4499 - val_loss: 4.9693\n",
      "Epoch 41/50\n",
      "98/98 [==============================] - 0s 2ms/step - loss: 5.0280 - val_loss: 4.9404\n",
      "Epoch 42/50\n",
      "98/98 [==============================] - 0s 2ms/step - loss: 5.3635 - val_loss: 4.9596\n",
      "Epoch 43/50\n",
      "98/98 [==============================] - 0s 2ms/step - loss: 5.2390 - val_loss: 4.9555\n",
      "Epoch 44/50\n",
      "98/98 [==============================] - 0s 2ms/step - loss: 4.9500 - val_loss: 4.8861\n",
      "Epoch 45/50\n",
      "98/98 [==============================] - 0s 2ms/step - loss: 5.0261 - val_loss: 4.8709\n",
      "Epoch 46/50\n",
      "98/98 [==============================] - 0s 2ms/step - loss: 5.5456 - val_loss: 4.8872\n",
      "Epoch 47/50\n",
      "98/98 [==============================] - 0s 2ms/step - loss: 5.1157 - val_loss: 4.8506\n",
      "Epoch 48/50\n",
      "98/98 [==============================] - 0s 2ms/step - loss: 4.9575 - val_loss: 4.8439\n",
      "Epoch 49/50\n",
      "98/98 [==============================] - 0s 2ms/step - loss: 5.0638 - val_loss: 4.8429\n",
      "Epoch 50/50\n",
      "98/98 [==============================] - 0s 2ms/step - loss: 5.1702 - val_loss: 4.9617\n"
     ]
    },
    {
     "data": {
      "text/plain": [
       "<tensorflow.python.keras.callbacks.History at 0x2a7d68d6cd0>"
      ]
     },
     "execution_count": 124,
     "metadata": {},
     "output_type": "execute_result"
    }
   ],
   "source": [
    "model.fit(x=scaled_X_train, \n",
    "          y=y_train, \n",
    "          epochs=epochs,\n",
    "          validation_data=(scaled_X_test, y_test), verbose=1)"
   ]
  },
  {
   "cell_type": "code",
   "execution_count": 125,
   "metadata": {},
   "outputs": [
    {
     "data": {
      "text/plain": [
       "<AxesSubplot:>"
      ]
     },
     "execution_count": 125,
     "metadata": {},
     "output_type": "execute_result"
    },
    {
     "data": {
      "image/png": "[encoded data removed]",
      "text/plain": [
       "<Figure size 432x288 with 1 Axes>"
      ]
     },
     "metadata": {
      "needs_background": "light"
     },
     "output_type": "display_data"
    }
   ],
   "source": [
    "results = pd.DataFrame(model.history.history)\n",
    "results[['loss','val_loss']].plot() "
   ]
  },
  {
   "cell_type": "code",
   "execution_count": 126,
   "metadata": {},
   "outputs": [],
   "source": [
    "mse = model.evaluate(scaled_X_test,y_test,verbose=0)"
   ]
  },
  {
   "cell_type": "code",
   "execution_count": 127,
   "metadata": {},
   "outputs": [
    {
     "name": "stdout",
     "output_type": "stream",
     "text": [
      "Test set MSE score is: 4.961724758148193\n"
     ]
    }
   ],
   "source": [
    "print(f\"Test set MSE score is: {mse}\" )"
   ]
  },
  {
   "cell_type": "markdown",
   "metadata": {},
   "source": [
    "## Ready Model for Deployment"
   ]
  },
  {
   "cell_type": "markdown",
   "metadata": {},
   "source": [
    "Now I am convinced with this results, i.e. decide that the performance metrics are good enough, it means we are ready for deployment.\n",
    "When deploying, we want to make sure that we use all available data. So we will train the model with same hyper-parameters again but this time with all data (without train-test split)"
   ]
  },
  {
   "cell_type": "code",
   "execution_count": 128,
   "metadata": {},
   "outputs": [],
   "source": [
    "scaled_X = scaler.fit_transform(X)"
   ]
  },
  {
   "cell_type": "code",
   "execution_count": 129,
   "metadata": {},
   "outputs": [
    {
     "name": "stdout",
     "output_type": "stream",
     "text": [
      "Epoch 1/50\n",
      "131/131 [==============================] - 0s 1ms/step - loss: 5.1212\n",
      "Epoch 2/50\n",
      "131/131 [==============================] - 0s 1ms/step - loss: 5.0653\n",
      "Epoch 3/50\n",
      "131/131 [==============================] - 0s 1ms/step - loss: 5.0395\n",
      "Epoch 4/50\n",
      "131/131 [==============================] - 0s 1ms/step - loss: 5.0429\n",
      "Epoch 5/50\n",
      "131/131 [==============================] - 0s 1ms/step - loss: 5.0311\n",
      "Epoch 6/50\n",
      "131/131 [==============================] - 0s 1ms/step - loss: 5.0395\n",
      "Epoch 7/50\n",
      "131/131 [==============================] - 0s 1ms/step - loss: 5.0479\n",
      "Epoch 8/50\n",
      "131/131 [==============================] - 0s 982us/step - loss: 4.9983\n",
      "Epoch 9/50\n",
      "131/131 [==============================] - 0s 1ms/step - loss: 4.9924\n",
      "Epoch 10/50\n",
      "131/131 [==============================] - 0s 1ms/step - loss: 4.9961\n",
      "Epoch 11/50\n",
      "131/131 [==============================] - 0s 1ms/step - loss: 4.9776\n",
      "Epoch 12/50\n",
      "131/131 [==============================] - 0s 1ms/step - loss: 4.9706\n",
      "Epoch 13/50\n",
      "131/131 [==============================] - 0s 987us/step - loss: 4.9879\n",
      "Epoch 14/50\n",
      "131/131 [==============================] - 0s 990us/step - loss: 4.9483\n",
      "Epoch 15/50\n",
      "131/131 [==============================] - 0s 986us/step - loss: 4.9525\n",
      "Epoch 16/50\n",
      "131/131 [==============================] - 0s 986us/step - loss: 4.9445\n",
      "Epoch 17/50\n",
      "131/131 [==============================] - 0s 996us/step - loss: 4.9441\n",
      "Epoch 18/50\n",
      "131/131 [==============================] - 0s 1ms/step - loss: 4.9558\n",
      "Epoch 19/50\n",
      "131/131 [==============================] - 0s 989us/step - loss: 4.9387\n",
      "Epoch 20/50\n",
      "131/131 [==============================] - 0s 996us/step - loss: 4.9378\n",
      "Epoch 21/50\n",
      "131/131 [==============================] - 0s 986us/step - loss: 4.9223\n",
      "Epoch 22/50\n",
      "131/131 [==============================] - 0s 988us/step - loss: 4.9400\n",
      "Epoch 23/50\n",
      "131/131 [==============================] - 0s 1ms/step - loss: 4.9349\n",
      "Epoch 24/50\n",
      "131/131 [==============================] - 0s 1ms/step - loss: 4.9000\n",
      "Epoch 25/50\n",
      "131/131 [==============================] - 0s 1ms/step - loss: 4.9052\n",
      "Epoch 26/50\n",
      "131/131 [==============================] - 0s 989us/step - loss: 4.9163\n",
      "Epoch 27/50\n",
      "131/131 [==============================] - 0s 988us/step - loss: 4.9058\n",
      "Epoch 28/50\n",
      "131/131 [==============================] - 0s 1ms/step - loss: 4.9022\n",
      "Epoch 29/50\n",
      "131/131 [==============================] - 0s 1ms/step - loss: 4.9241\n",
      "Epoch 30/50\n",
      "131/131 [==============================] - 0s 1ms/step - loss: 4.8838\n",
      "Epoch 31/50\n",
      "131/131 [==============================] - 0s 1ms/step - loss: 4.8772\n",
      "Epoch 32/50\n",
      "131/131 [==============================] - 0s 988us/step - loss: 4.8730\n",
      "Epoch 33/50\n",
      "131/131 [==============================] - 0s 1ms/step - loss: 4.8684\n",
      "Epoch 34/50\n",
      "131/131 [==============================] - 0s 1ms/step - loss: 4.8712\n",
      "Epoch 35/50\n",
      "131/131 [==============================] - 0s 1ms/step - loss: 4.8850\n",
      "Epoch 36/50\n",
      "131/131 [==============================] - 0s 1ms/step - loss: 4.8692\n",
      "Epoch 37/50\n",
      "131/131 [==============================] - 0s 976us/step - loss: 4.8581\n",
      "Epoch 38/50\n",
      "131/131 [==============================] - 0s 961us/step - loss: 4.8558\n",
      "Epoch 39/50\n",
      "131/131 [==============================] - 0s 976us/step - loss: 4.8579\n",
      "Epoch 40/50\n",
      "131/131 [==============================] - 0s 953us/step - loss: 4.8654\n",
      "Epoch 41/50\n",
      "131/131 [==============================] - 0s 956us/step - loss: 4.8470\n",
      "Epoch 42/50\n",
      "131/131 [==============================] - 0s 994us/step - loss: 4.8461\n",
      "Epoch 43/50\n",
      "131/131 [==============================] - 0s 990us/step - loss: 4.8427\n",
      "Epoch 44/50\n",
      "131/131 [==============================] - 0s 1ms/step - loss: 4.8829\n",
      "Epoch 45/50\n",
      "131/131 [==============================] - 0s 1ms/step - loss: 4.8496\n",
      "Epoch 46/50\n",
      "131/131 [==============================] - 0s 1ms/step - loss: 4.8788\n",
      "Epoch 47/50\n",
      "131/131 [==============================] - 0s 1ms/step - loss: 4.8249\n",
      "Epoch 48/50\n",
      "131/131 [==============================] - 0s 1ms/step - loss: 4.8255\n",
      "Epoch 49/50\n",
      "131/131 [==============================] - 0s 1ms/step - loss: 4.8194\n",
      "Epoch 50/50\n",
      "131/131 [==============================] - 0s 1ms/step - loss: 4.8356\n"
     ]
    },
    {
     "data": {
      "text/plain": [
       "<tensorflow.python.keras.callbacks.History at 0x2a7d512d9d0>"
      ]
     },
     "execution_count": 129,
     "metadata": {},
     "output_type": "execute_result"
    }
   ],
   "source": [
    "model.fit(scaled_X, y, epochs=epochs)"
   ]
  },
  {
   "cell_type": "markdown",
   "metadata": {},
   "source": [
    "### Save Model and Scaler"
   ]
  },
  {
   "cell_type": "code",
   "execution_count": 130,
   "metadata": {},
   "outputs": [],
   "source": [
    "model.save(\"abalone_model.h5\")"
   ]
  },
  {
   "cell_type": "code",
   "execution_count": 131,
   "metadata": {},
   "outputs": [],
   "source": [
    "import joblib"
   ]
  },
  {
   "cell_type": "code",
   "execution_count": 132,
   "metadata": {},
   "outputs": [
    {
     "data": {
      "text/plain": [
       "['abalone_scaler.pkl']"
      ]
     },
     "execution_count": 132,
     "metadata": {},
     "output_type": "execute_result"
    }
   ],
   "source": [
    "joblib.dump(scaler,'abalone_scaler.pkl')"
   ]
  },
  {
   "cell_type": "markdown",
   "metadata": {},
   "source": [
    "Now we are finished in this notebook, for the prediction process, I created a seperate python script (app.py), since we can't run it from here."
   ]
  }
 ],
 "metadata": {
  "kernelspec": {
   "display_name": "Python 3",
   "language": "python",
   "name": "python3"
  },
  "language_info": {
   "codemirror_mode": {
    "name": "ipython",
    "version": 3
   },
   "file_extension": ".py",
   "mimetype": "text/x-python",
   "name": "python",
   "nbconvert_exporter": "python",
   "pygments_lexer": "ipython3",
   "version": "3.8.5"
  }
 },
 "nbformat": 4,
 "nbformat_minor": 4
}
